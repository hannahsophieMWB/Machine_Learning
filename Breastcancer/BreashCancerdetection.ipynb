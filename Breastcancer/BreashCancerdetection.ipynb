{
 "cells": [
  {
   "cell_type": "markdown",
   "id": "d85c9140-7113-442a-9cef-021d2afca46e",
   "metadata": {},
   "source": [
    "# Breast Cancer Classifier"
   ]
  },
  {
   "cell_type": "markdown",
   "id": "d7efee51-b52b-43aa-a57e-b03d45383c29",
   "metadata": {},
   "source": [
    "A Codecademy project from the Data Science course Machine Learning.\n",
    "Full code is available on Github here"
   ]
  },
  {
   "cell_type": "markdown",
   "id": "268dd84f-cc31-412b-8f5d-b84632f683f3",
   "metadata": {},
   "source": [
    " ##  𝌣 Load in the libraries"
   ]
  },
  {
   "cell_type": "code",
   "execution_count": 17,
   "id": "0e634700-efce-402e-b644-e52a22e4f80d",
   "metadata": {},
   "outputs": [],
   "source": [
    "import seaborn as sns\n",
    "from  sklearn.datasets  import load_breast_cancer\n",
    "# \n",
    "import matplotlib as plt \n",
    "import matplotlib.pyplot as plt \n",
    "import numpy as np \n",
    "from sklearn.neighbors import KNeighborsClassifier\n"
   ]
  },
  {
   "cell_type": "markdown",
   "id": "a15e5528-6b6b-4b11-af20-325ca76ab05d",
   "metadata": {},
   "source": [
    "\n",
    "\n",
    "\n",
    "## 🎯 Objective\n",
    "In this project, we will be using several Python libraries to make a K-Nearest Neighbor classifier that is trained to predict whether a patient has breast cancer.\n",
    "\n"
   ]
  },
  {
   "cell_type": "markdown",
   "id": "332952e1-5679-44f2-9933-04c70662bbc7",
   "metadata": {},
   "source": [
    "Before jumping into creating our classifier, let’s take a look at the data. \n",
    "\n",
    "\n"
   ]
  },
  {
   "cell_type": "code",
   "execution_count": 18,
   "id": "6a3c0d46-1aa5-4c94-b119-990cfad138e7",
   "metadata": {},
   "outputs": [
    {
     "name": "stdout",
     "output_type": "stream",
     "text": [
      "[1.799e+01 1.038e+01 1.228e+02 1.001e+03 1.184e-01 2.776e-01 3.001e-01\n",
      " 1.471e-01 2.419e-01 7.871e-02 1.095e+00 9.053e-01 8.589e+00 1.534e+02\n",
      " 6.399e-03 4.904e-02 5.373e-02 1.587e-02 3.003e-02 6.193e-03 2.538e+01\n",
      " 1.733e+01 1.846e+02 2.019e+03 1.622e-01 6.656e-01 7.119e-01 2.654e-01\n",
      " 4.601e-01 1.189e-01]\n"
     ]
    }
   ],
   "source": [
    "\n",
    "\n",
    "breast_cancer_data = load_breast_cancer()\n",
    "print(breast_cancer_data.data[0])\n",
    "\n",
    "# We now have a sense of what the data looks like, but what are we trying to classify? Let’s print both breast_cancer_data.target and breast_cancer_data.target_names.\n"
   ]
  },
  {
   "cell_type": "code",
   "execution_count": 19,
   "id": "7e1d7206-1f23-4cbd-9885-e5b5e2d547ec",
   "metadata": {},
   "outputs": [
    {
     "name": "stdout",
     "output_type": "stream",
     "text": [
      "[0 0 0 0 0 0 0 0 0 0 0 0 0 0 0 0 0 0 0 1 1 1 0 0 0 0 0 0 0 0 0 0 0 0 0 0 0\n",
      " 1 0 0 0 0 0 0 0 0 1 0 1 1 1 1 1 0 0 1 0 0 1 1 1 1 0 1 0 0 1 1 1 1 0 1 0 0\n",
      " 1 0 1 0 0 1 1 1 0 0 1 0 0 0 1 1 1 0 1 1 0 0 1 1 1 0 0 1 1 1 1 0 1 1 0 1 1\n",
      " 1 1 1 1 1 1 0 0 0 1 0 0 1 1 1 0 0 1 0 1 0 0 1 0 0 1 1 0 1 1 0 1 1 1 1 0 1\n",
      " 1 1 1 1 1 1 1 1 0 1 1 1 1 0 0 1 0 1 1 0 0 1 1 0 0 1 1 1 1 0 1 1 0 0 0 1 0\n",
      " 1 0 1 1 1 0 1 1 0 0 1 0 0 0 0 1 0 0 0 1 0 1 0 1 1 0 1 0 0 0 0 1 1 0 0 1 1\n",
      " 1 0 1 1 1 1 1 0 0 1 1 0 1 1 0 0 1 0 1 1 1 1 0 1 1 1 1 1 0 1 0 0 0 0 0 0 0\n",
      " 0 0 0 0 0 0 0 1 1 1 1 1 1 0 1 0 1 1 0 1 1 0 1 0 0 1 1 1 1 1 1 1 1 1 1 1 1\n",
      " 1 0 1 1 0 1 0 1 1 1 1 1 1 1 1 1 1 1 1 1 1 0 1 1 1 0 1 0 1 1 1 1 0 0 0 1 1\n",
      " 1 1 0 1 0 1 0 1 1 1 0 1 1 1 1 1 1 1 0 0 0 1 1 1 1 1 1 1 1 1 1 1 0 0 1 0 0\n",
      " 0 1 0 0 1 1 1 1 1 0 1 1 1 1 1 0 1 1 1 0 1 1 0 0 1 1 1 1 1 1 0 1 1 1 1 1 1\n",
      " 1 0 1 1 1 1 1 0 1 1 0 1 1 1 1 1 1 1 1 1 1 1 1 0 1 0 0 1 0 1 1 1 1 1 0 1 1\n",
      " 0 1 0 1 1 0 1 0 1 1 1 1 1 1 1 1 0 0 1 1 1 1 1 1 0 1 1 1 1 1 1 1 1 1 1 0 1\n",
      " 1 1 1 1 1 1 0 1 0 1 1 0 1 1 1 1 1 0 0 1 0 1 0 1 1 1 1 1 0 1 1 0 1 0 1 0 0\n",
      " 1 1 1 0 1 1 1 1 1 1 1 1 1 1 1 0 1 0 0 1 1 1 1 1 1 1 1 1 1 1 1 1 1 1 1 1 1\n",
      " 1 1 1 1 1 1 1 0 0 0 0 0 0 1]\n",
      "['malignant' 'benign']\n"
     ]
    }
   ],
   "source": [
    "\n",
    "print(breast_cancer_data.target)\n",
    "print(breast_cancer_data.target_names)\n",
    "\n",
    "\n"
   ]
  },
  {
   "cell_type": "markdown",
   "id": "aa4e6182-8ac8-4142-bcb8-d4759a0ec86c",
   "metadata": {},
   "source": [
    "We now have a sense of what the data looks like, but what are we trying to classify? It's 'malignant' and 'benign' that we are trying to classify here!"
   ]
  },
  {
   "cell_type": "markdown",
   "id": "c76eb49e-4512-481f-8363-567a5350eaf2",
   "metadata": {},
   "source": [
    "## 🖖 Split the data"
   ]
  },
  {
   "cell_type": "markdown",
   "id": "90128217-af95-4b33-a193-c531e1761afb",
   "metadata": {},
   "source": [
    "We have our data, but now it needs to be split into training and validation sets. Luckily, sklearn has a function that does that for us. Begin by importing the train_test_split function from sklearn.model_selection."
   ]
  },
  {
   "cell_type": "code",
   "execution_count": 20,
   "id": "bd3de99b-828e-402a-aab7-72245705d162",
   "metadata": {},
   "outputs": [],
   "source": [
    "# split the data\n",
    "from sklearn.model_selection import train_test_split\n",
    "\n",
    "train_test_split(breast_cancer_data.data, breast_cancer_data.target, test_size = 0.2, random_state = 100)\n",
    "\n",
    "# split the data\n",
    "training_data, validation_data, training_labels, validation_labels = train_test_split(breast_cancer_data.data, breast_cancer_data.target, test_size = 0.2, random_state = 100)\n",
    "\n"
   ]
  },
  {
   "cell_type": "markdown",
   "id": "aec2757d-9125-4c35-b99e-b624b0439d3a",
   "metadata": {},
   "source": [
    "Let us check the length of the training data set to see if we have split the data correctly."
   ]
  },
  {
   "cell_type": "code",
   "execution_count": 21,
   "id": "2cc5ba72-d2ed-4359-be76-4d672301f47f",
   "metadata": {},
   "outputs": [
    {
     "name": "stdout",
     "output_type": "stream",
     "text": [
      "455\n",
      "455\n"
     ]
    }
   ],
   "source": [
    "# length\n",
    "print(len(training_data))\n",
    "print(len(training_labels))\n",
    "\n"
   ]
  },
  {
   "cell_type": "markdown",
   "id": "10255f98-f84c-43e8-ac9c-8491441c0043",
   "metadata": {},
   "source": [
    "## Running the classifier\n"
   ]
  },
  {
   "cell_type": "code",
   "execution_count": 24,
   "id": "bb0bed05-7416-4d8c-8ec6-e49c76b86ce1",
   "metadata": {},
   "outputs": [],
   "source": [
    "\n",
    "accuracies = []\n",
    "# adjust k to take different numbers\n",
    "for k in range(1, 101):\n",
    "  classifier= KNeighborsClassifier(n_neighbors=k) \n",
    "  #Train classifier\n",
    "  # Traing the model\n",
    "  classifier.fit(training_data, training_labels)\n",
    "  #Report accuracy  \n",
    "  accuracies.append(classifier.score(validation_data, validation_labels))\n",
    "\n"
   ]
  },
  {
   "cell_type": "markdown",
   "id": "cd272e51-120f-4732-98f6-e7b8f370ec6c",
   "metadata": {},
   "source": [
    "## Plot the results"
   ]
  },
  {
   "cell_type": "code",
   "execution_count": 25,
   "id": "40a8d4ef-7fd7-47ee-9204-db550012c9ea",
   "metadata": {},
   "outputs": [
    {
     "data": {
      "image/png": "[encoded data removed]",
      "text/plain": [
       "<Figure size 432x288 with 1 Axes>"
      ]
     },
     "metadata": {
      "needs_background": "light"
     },
     "output_type": "display_data"
    },
    {
     "data": {
      "text/plain": [
       "Text(0, 0.5, 'Breast Cancer Classifier Accuracy')"
      ]
     },
     "execution_count": 25,
     "metadata": {},
     "output_type": "execute_result"
    },
    {
     "data": {
      "image/png": "[encoded data removed]",
      "text/plain": [
       "<Figure size 432x288 with 1 Axes>"
      ]
     },
     "metadata": {
      "needs_background": "light"
     },
     "output_type": "display_data"
    }
   ],
   "source": [
    "# make a list for k\n",
    "k_list = range(1,101)\n",
    "\n",
    "\n",
    "# plot\n",
    "plt.plot(k_list,accuracies )\n",
    "plt.show()\n",
    "\n",
    "# labels\n",
    "plt.xlabel('k')\n",
    "plt.ylabel('Breast Cancer Classifier Accuracy')"
   ]
  },
  {
   "cell_type": "code",
   "execution_count": 27,
   "id": "f17fa841-b514-4212-9c99-f40d3c366755",
   "metadata": {},
   "outputs": [
    {
     "ename": "SyntaxError",
     "evalue": "invalid syntax (4098875122.py, line 1)",
     "output_type": "error",
     "traceback": [
      "\u001b[0;36m  File \u001b[0;32m\"/var/folders/n5/8ws6k1nx70l2ccp51f63s1x80000gp/T/ipykernel_93954/4098875122.py\"\u001b[0;36m, line \u001b[0;32m1\u001b[0m\n\u001b[0;31m    jupyter bundlerextension enable --py jupyter_to_medium._bundler --sys-prefix\u001b[0m\n\u001b[0m            ^\u001b[0m\n\u001b[0;31mSyntaxError\u001b[0m\u001b[0;31m:\u001b[0m invalid syntax\n"
     ]
    }
   ],
   "source": [
    "jupyter bundlerextension enable --py jupyter_to_medium._bundler --sys-prefix"
   ]
  },
  {
   "cell_type": "code",
   "execution_count": null,
   "id": "e13a1d04-2236-4102-b7c9-b044e04a05d6",
   "metadata": {},
   "outputs": [],
   "source": []
  }
 ],
 "metadata": {
  "kernelspec": {
   "display_name": "Python 3 (ipykernel)",
   "language": "python",
   "name": "python3"
  },
  "language_info": {
   "codemirror_mode": {
    "name": "ipython",
    "version": 3
   },
   "file_extension": ".py",
   "mimetype": "text/x-python",
   "name": "python",
   "nbconvert_exporter": "python",
   "pygments_lexer": "ipython3",
   "version": "3.9.9"
  }
 },
 "nbformat": 4,
 "nbformat_minor": 5
}
